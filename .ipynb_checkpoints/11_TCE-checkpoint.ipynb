{
 "cells": [
  {
   "cell_type": "code",
   "execution_count": null,
   "metadata": {},
   "outputs": [],
   "source": [
    "from gol_apis import RosterActivitiesService\n",
    "from gol_apis import RosterTagService\n",
    "from gol_apis import CheckScheduleService\n",
    "from gol_apis import CrewMemberInfoService\n",
    "import api_tools\n",
    "from api_tools.setup import setup_crew_info_dataframe\n",
    "from api_tools.setup import setup_checks_dataframe\n",
    "from api_tools.setup import setup_tag_dataframe\n",
    "from api_tools.setup import setup_activities_dataframe\n",
    "\n",
    "from gol_logger import Logger\n",
    "import pandas as pd\n",
    "import multiprocessing as mp\n",
    "import requests, time\n",
    "from datetime import datetime as dt\n",
    "from datetime import timedelta as td\n",
    "from utils import funcs\n",
    "from utils.progress import step\n",
    "from utils.progress import BAR\n",
    "from itertools import chain\n",
    "\n",
    "from modules.generate_data import get_data_neolude\n",
    "from modules.generate_data import get_rosters\n",
    "from modules.generate_data import get_crew_info\n",
    "from modules.generate_data import get_checks\n",
    "\n",
    "import sys\n",
    "from config.variables import user"
   ]
  },
  {
   "cell_type": "code",
   "execution_count": null,
   "metadata": {},
   "outputs": [],
   "source": [
    "training_code = 'TCE'"
   ]
  },
  {
   "cell_type": "code",
   "execution_count": null,
   "metadata": {
    "scrolled": false
   },
   "outputs": [],
   "source": [
    "# Dados Crew Info\n",
    "crew = pd.read_csv('data/crew/crew_info.csv', sep=';', encoding='utf-8-sig')\n",
    "crew.cif = crew.cif.astype(int).astype(str).str.zfill(8)\n",
    "crew = crew[crew['funcao'].isin(['CMT', 'COP'])]\n",
    "crew = crew[['cif', 'guerra', 'funcao', 'cargo', 'base']]\n",
    "crew"
   ]
  },
  {
   "cell_type": "code",
   "execution_count": null,
   "metadata": {},
   "outputs": [],
   "source": [
    "# Header para filtrar dados do Neolude\n",
    "header_neolude = ['RegistrationNumber',\n",
    "                  'UserName',\n",
    "                  'BusinessUnitName',\n",
    "                  'Post',\n",
    "                  'CPF',\n",
    "                  'Email',\n",
    "                  'CourseUserStatus',\n",
    "                  'GradeFormatted',\n",
    "                  'LastAccessDate',\n",
    "                  'CreatedDate',\n",
    "                  'CompletionDate']"
   ]
  },
  {
   "cell_type": "code",
   "execution_count": null,
   "metadata": {},
   "outputs": [],
   "source": [
    "# Dados Neolude\n",
    "training = pd.read_csv(f'data/neolude/{training_code}.csv', sep=';', encoding='utf-8-sig')\n",
    "training = training[header_neolude]\n",
    "training['RegistrationNumber'] = training['RegistrationNumber'].fillna(0)\n",
    "training['RegistrationNumber'] = training['RegistrationNumber'].astype(int).astype(str).str.zfill(8)\n",
    "training['LastAccessDate'] = pd.to_datetime(training['LastAccessDate'])\n",
    "training['CreatedDate'] = pd.to_datetime(training['CreatedDate'])\n",
    "training['CompletionDate'] = pd.to_datetime(training['CompletionDate'])\n",
    "training.columns = ['cif', 'name', 'base', 'funcao', 'cpf', 'email', 'status', 'nota', 'ultimo_acesso', 'criacao_acesso', 'data_conclusao']\n",
    "training = training[['cif', 'status', 'nota', 'data_conclusao']]\n",
    "training"
   ]
  },
  {
   "cell_type": "code",
   "execution_count": null,
   "metadata": {},
   "outputs": [],
   "source": [
    "# Dados de Rosters\n",
    "rosters = funcs.generate_data('data/rosters/')\n",
    "rosters.cif = rosters.cif.astype(str).str.zfill(8)\n",
    "rosters = rosters[rosters['code'].isin(funcs.training_filter(training_code))]\n",
    "rosters = rosters.sort_values(by=['cif','dep'])\n",
    "rosters = rosters[['cif', 'code', 'fr', 'dep']]\n",
    "rosters = rosters.drop_duplicates(subset = ['cif'], keep = 'last')\n",
    "rosters"
   ]
  },
  {
   "cell_type": "code",
   "execution_count": null,
   "metadata": {},
   "outputs": [],
   "source": [
    "# Dados de Checks\n",
    "checks = pd.read_csv('data/checks/check_schedule.csv', sep=';', encoding='utf-8-sig')\n",
    "checks.cif = checks.cif.astype(str).str.zfill(8)\n",
    "checks = checks[checks['checkTypeCode'] == training_code]\n",
    "checks = checks[['cif', 'checkTypeCode', 'expiryDt']]\n",
    "checks"
   ]
  },
  {
   "cell_type": "code",
   "execution_count": null,
   "metadata": {},
   "outputs": [],
   "source": [
    "# Merge dos dados\n",
    "resultado = pd.merge(crew, checks[['cif', 'checkTypeCode', 'expiryDt']], on='cif', how='left')\n",
    "resultado = resultado.merge(training, on='cif', how='left')\n",
    "resultado = resultado.merge(rosters[['cif', 'code', 'dep']], on='cif', how='left')\n",
    "resultado"
   ]
  },
  {
   "cell_type": "code",
   "execution_count": null,
   "metadata": {},
   "outputs": [],
   "source": [
    "# Formatação do dataFrame de Dados\n",
    "validation = resultado.copy()\n",
    "validation['dep'] = validation['dep'].fillna(pd.to_datetime(dt(2035,12,31)))\n",
    "validation['data_conclusao'] = validation['data_conclusao'].fillna(pd.to_datetime(dt(2035,12,31)))\n",
    "validation['dep'] = pd.to_datetime(validation['dep'], format='%Y-%m-%d')\n",
    "validation['dep'] = validation['dep'].dt.floor('D')\n",
    "validation['data_conclusao'] = pd.to_datetime(validation['data_conclusao'], format='%Y-%m-%d')\n",
    "validation['data_conclusao'] = validation['data_conclusao'].dt.floor('D')\n",
    "validation"
   ]
  },
  {
   "cell_type": "code",
   "execution_count": null,
   "metadata": {},
   "outputs": [],
   "source": [
    "# Variavel considerada para filtrar tripulantes com vencimentos nos proximos dois meses\n",
    "venc_next_month = pd.to_datetime(dt.now()) + pd.offsets.MonthBegin(2)"
   ]
  },
  {
   "cell_type": "code",
   "execution_count": null,
   "metadata": {
    "scrolled": false
   },
   "outputs": [],
   "source": [
    "# Tripulantes com vencimentos nos proximos dois meses, com treinamentos plotados em escala e \n",
    "# que já concluiram o curso\n",
    "atualizar = validation[(validation['dep'] < pd.to_datetime(dt.now())) &\n",
    "                           (pd.to_datetime(validation['expiryDt']) < venc_next_month) &\n",
    "                           (validation['status'] == 'Concluído')\n",
    "                          ]\n",
    "atualizar"
   ]
  },
  {
   "cell_type": "code",
   "execution_count": null,
   "metadata": {},
   "outputs": [],
   "source": [
    "verificar =  validation[(validation['dep'] < pd.to_datetime(dt.now())) &\n",
    "                            (pd.to_datetime(validation['expiryDt']) < venc_next_month) &\n",
    "                            (validation['status'] != 'Concluído')\n",
    "                           ]\n",
    "verificar"
   ]
  },
  {
   "cell_type": "code",
   "execution_count": null,
   "metadata": {},
   "outputs": [],
   "source": [
    "atualizar.to_csv(f'./data/output/{training_code}_atualizar.csv', index=False, sep=';', encoding='utf-8-sig')\n",
    "verificar.to_csv(f'./data/output/{training_code}_verificar.csv', index=False, sep=';', encoding='utf-8-sig')"
   ]
  },
  {
   "cell_type": "code",
   "execution_count": null,
   "metadata": {},
   "outputs": [],
   "source": []
  }
 ],
 "metadata": {
  "kernelspec": {
   "display_name": "Python 3",
   "language": "python",
   "name": "python3"
  },
  "language_info": {
   "codemirror_mode": {
    "name": "ipython",
    "version": 3
   },
   "file_extension": ".py",
   "mimetype": "text/x-python",
   "name": "python",
   "nbconvert_exporter": "python",
   "pygments_lexer": "ipython3",
   "version": "3.9.0"
  }
 },
 "nbformat": 4,
 "nbformat_minor": 4
}
