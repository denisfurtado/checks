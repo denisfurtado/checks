{
 "cells": [
  {
   "cell_type": "code",
   "execution_count": 1,
   "metadata": {},
   "outputs": [],
   "source": [
    "from gol_apis import RosterActivitiesService\n",
    "from gol_apis import RosterTagService\n",
    "from gol_apis import CheckScheduleService\n",
    "from gol_apis import CrewMemberInfoService\n",
    "import api_tools\n",
    "from api_tools.setup import setup_crew_info_dataframe\n",
    "from api_tools.setup import setup_checks_dataframe\n",
    "from api_tools.setup import setup_tag_dataframe\n",
    "from api_tools.setup import setup_activities_dataframe\n",
    "\n",
    "from gol_logger import Logger\n",
    "import pandas as pd\n",
    "import multiprocessing as mp\n",
    "import requests, time\n",
    "from datetime import datetime as dt\n",
    "from datetime import timedelta as td\n",
    "from utils import funcs\n",
    "from utils.progress import step\n",
    "from utils.progress import BAR\n",
    "from itertools import chain\n",
    "\n",
    "import sys\n",
    "from config.variables import user"
   ]
  },
  {
   "cell_type": "code",
   "execution_count": null,
   "metadata": {},
   "outputs": [],
   "source": [
    "@step('check schedule: loading check schedule data')\n",
    "def get_checks(user, log_info=False, active=True):\n",
    "    logger = Logger()\n",
    "    logger.print_setting['INFO'] = log_info\n",
    "\n",
    "    \n",
    "    # start a query service\n",
    "    cs = CheckScheduleService(user=user['name'], logger=logger)\n",
    "    cs.authenticate(password=user['password'])\n",
    "\n",
    "    # run query and create a checks dataframe   \n",
    "    data = cs.run_query(active=active)\n",
    "    df = setup_checks_dataframe(data)\n",
    "    \n",
    "    #save to cache\n",
    "    df.to_csv('./data/checks/check_schedule.csv', index=False, encoding='utf-8-sig', sep=';')\n",
    "\n",
    "    return df"
   ]
  },
  {
   "cell_type": "code",
   "execution_count": null,
   "metadata": {},
   "outputs": [],
   "source": [
    "@step('crew info: loading crew info data')\n",
    "def get_crew_info(user, log_info=False, date=dt.now()):\n",
    "    logger = Logger()\n",
    "    logger.print_setting['INFO'] = log_info\n",
    "\n",
    "    # start a query service\n",
    "    ci = CrewMemberInfoService(user=user['name'], logger=logger)\n",
    "    ci.authenticate(password=user['password'])\n",
    "\n",
    "    # run query and create a checks dataframe   \n",
    "    data = ci.run_query(date=date)\n",
    "    df = setup_crew_info_dataframe(data)\n",
    "    \n",
    "    #save to cache\n",
    "    df.to_csv('./data/crew/crew_info.csv', index=False, encoding='utf-8-sig', sep=';')\n",
    "\n",
    "    return df"
   ]
  },
  {
   "cell_type": "code",
   "execution_count": null,
   "metadata": {},
   "outputs": [],
   "source": [
    "@step('roster tag: loading roster tag data')\n",
    "def get_roster_tag(user, log_info=False, period=dt.now(), tag_type='', all_period=False):\n",
    "    logger = Logger()\n",
    "    logger.print_setting['INFO'] = log_info\n",
    "    \n",
    "    # start a query service\n",
    "    rt = RosterTagService(user=user['name'], logger=logger)\n",
    "    rt.authenticate(password=user['password'])\n",
    "    \n",
    "    y = int(period.year)\n",
    "    m = int(period.month)\n",
    "    \n",
    "    if all_period:\n",
    "        for month in range(1, m+1):\n",
    "            begin = dt(y, month, 1, 3) + pd.offsets.MonthBegin(0)\n",
    "            end = dt(y, month, 1, 2, 59) + pd.offsets.MonthBegin(1)\n",
    "            \n",
    "            BAR.do_step(f'roster tag: loading data: chunck {y}-{str(month).zfill(2)}')\n",
    "            data = rt.run_query(begin=begin, end=end, tagType=tag_type)\n",
    "            df = setup_tag_dataframe(data)\n",
    "            \n",
    "            df.to_csv(f'./data/roster_tags/{y}-{str(month).zfill(2)}.csv', index=False, encoding='utf-8-sig', sep=';')\n",
    "        \n",
    "    \n",
    "    # set query parameters\n",
    "    begin = dt(y, m, 1, 3) + pd.offsets.MonthBegin(0)\n",
    "    end = dt(y, m, 1, 2, 59) + pd.offsets.MonthBegin(1)\n",
    "    \n",
    "    # run query and create a checks dataframe   \n",
    "    data = rt.run_query(begin=begin, end=end, tagType=tag_type)\n",
    "    df = setup_tag_dataframe(data)\n",
    "    \n",
    "    #save to cache\n",
    "    df.to_csv(f'./data/roster_tags/{y}-{str(m).zfill(2)}.csv', index=False, encoding='utf-8-sig', sep=';')\n",
    "\n",
    "    return df"
   ]
  },
  {
   "cell_type": "code",
   "execution_count": 2,
   "metadata": {},
   "outputs": [],
   "source": [
    "@step('rosters: loading rosters activities data')\n",
    "def get_rosters(user, log_info=False, period=dt.now(), all_period=False):\n",
    "    logger = Logger()\n",
    "    logger.print_setting['INFO'] = log_info\n",
    "    \n",
    "    # start a query service\n",
    "    ra = RosterActivitiesService(user=user['name'], logger=logger)\n",
    "    ra.authenticate(password=user['password'])\n",
    "    \n",
    "    y = int(period.year)\n",
    "    m = int(period.month)\n",
    "    \n",
    "    if all_period:\n",
    "        for month in range(1, m+1):\n",
    "            begin = dt(y, month, 1, 3) + pd.offsets.MonthBegin(0)\n",
    "            end = dt(y, month, 1, 2, 59) + pd.offsets.MonthBegin(1)\n",
    "            \n",
    "            BAR.do_step(f'rosters activities: loading data: chunck {y}-{str(month).zfill(2)}')\n",
    "            data = ra.run_query(begin=begin, end=end)\n",
    "            df = setup_activities_dataframe(data)\n",
    "            \n",
    "            df.to_csv(f'./data/rosters/{y}-{str(month).zfill(2)}.csv', index=False, encoding='utf-8-sig', sep=';')\n",
    "        \n",
    "    \n",
    "    # set query parameters\n",
    "    begin = dt(y, m, 1, 3) + pd.offsets.MonthBegin(0)\n",
    "    end = dt(y, m, 1, 2, 59) + pd.offsets.MonthBegin(1)\n",
    "    \n",
    "    # run query and create a checks dataframe   \n",
    "    data = ra.run_query(begin=begin, end=end)\n",
    "    df = setup_activities_dataframe(data)\n",
    "    \n",
    "    #save to cache\n",
    "    df.to_csv(f'./data/rosters/{y}-{str(m).zfill(2)}.csv', index=False, encoding='utf-8-sig', sep=';')\n",
    "\n",
    "    return df"
   ]
  },
  {
   "cell_type": "markdown",
   "metadata": {},
   "source": [
    "#### Códigos dos cursos ####\n",
    "**6069**  : CRM COPR – CRM CORPORATE RESOURCE MANAGEMENT\n",
    "\n",
    "**6162**  : CRM TEM – CRM TEM GERENCIAMENTO DE AMEAÇAS E ERROS \n",
    "\n",
    "**6173**  : SEC PERIODICO – AVSEC PARA TRIPULANTES – ATUALIZAÇÃO RBAC 110\n",
    "\n",
    "**6066**  : SEC INICIAL – AVSEC PARA TRIPULANTES – FORMAÇÃO RBAC 110\n",
    "\n",
    "**14241** : SGSO – SGSO TRIPULANTES\n",
    "\n",
    "**14140** : ARP – ARTIGOS PERIGOSOS CATEGORIA 10 PERIODICO (ONLINE)\n",
    "\n",
    "**18180** : EMG ONLINE – TRIPULAÇÃO TECNICA EMERGENCIAS GERAIS E TRENAMENTO CONJUNTO EAD\n",
    "\n",
    "**25250** : EMG PRESENCIAL – TRIPULAÇÃO TECNICA EMERGENCIAS GERAIS PRATICAS\n",
    "\n",
    "**11211** : RBAC – DSO GERENCIAMENTO DE FADIGA HUMANA – RBAC 117 \n",
    "\n",
    "**26361** : C-ONLINE – TRIPULAÇÃO TECNICA - APROXIMAÇÕES ESTABILIZADAS E NÃO ESTABILIZADAS "
   ]
  },
  {
   "cell_type": "code",
   "execution_count": 3,
   "metadata": {},
   "outputs": [],
   "source": [
    "@step('neolude: loading neolude data')\n",
    "def get_data_neolude(user, log_info=False, training_id=''):\n",
    "    logger = Logger()\n",
    "    logger.print_setting['INFO'] = log_info\n",
    "    \n",
    "    TRAININGS = {\n",
    "        14140 : 'ARP',\n",
    "        6167  : 'CFI',\n",
    "        16766 : 'EQP',\n",
    "        18180 : 'EMG',\n",
    "        25250 : 'EMG_presencial',\n",
    "        14241 : 'SGSO',\n",
    "        17877 : 'OPT',\n",
    "        11211 : 'RBAC',\n",
    "        26361 : 'aproximacoes_estabilizadas_e_nao_estabilizadas',\n",
    "        19897 : 'experiencia_recente',\n",
    "        6069  : 'CRM',\n",
    "        6162  : 'C_TEM',\n",
    "        6173  : 'SEC',\n",
    "        6066  : 'SEC_inicial'\n",
    "         \n",
    "    }\n",
    "    \n",
    "    training = TRAININGS.get(training_id)\n",
    "    \n",
    "    login_url = 'http://portaldoconhecimentogol-account.neolude.com.br/Account/Login'\n",
    "    \n",
    "    return_url = 'https://portaldoconhecimentogol-account.neolude.com.br'\n",
    "    show_captcha = 'false'\n",
    "    headers = {'User-Agent': 'Mozilla/5.0 (compatible; MSIE 10.0; Windows NT 6.1; WOW64; Trident/6.0)'}\n",
    "\n",
    "    payload = {'Login': user['name'],\n",
    "               'Password': user['password'],\n",
    "               'ReturnUrl': return_url,\n",
    "               'ShowCaptcha':show_captcha}\n",
    "    \n",
    "    all_dates = []\n",
    "    with requests.Session() as session:\n",
    "        BAR.do_step(f'neolude data: loading data: chunck {training}')\n",
    "        response = session.post(login_url, data=payload, headers=headers)\n",
    "        time.sleep(10)\n",
    "        \n",
    "        url = f\"https://portaldoconhecimentogol.neolude.com.br/api/reports/course/itemizedClass/?pageIndex=1&pageSize=5000&sortBy=UserName&order=desc&startDate=&endDate=&courseModeID=&courseIDs={training_id}&occupationAreaIDs=&withChildNodes=true&userIDs=&courseUserStatusIdentifiers=&showSingleUsers=true&onlyActiveUsers=false&categoryIDs=&TrackIDs=&tagIDs=&startAdmissionDate=&endAdmissionDate=&EnrollableIDs=&Login=&rootBusinessUnitID=&businessUnitID=&hotData=true&coursePermissionLevelIdentifier=&startConclusionDate=&endConclusionDate=\"\n",
    "        r = session.get(url=url)\n",
    "        \n",
    "        data = r.json()\n",
    "        \n",
    "        df = data['Results']\n",
    "        df = pd.DataFrame(df)\n",
    "        df.to_csv(f'./data/neolude/{training}.csv', index=False, encoding='utf-8-sig', sep=';') \n",
    "\n",
    "    return df"
   ]
  },
  {
   "cell_type": "code",
   "execution_count": 4,
   "metadata": {},
   "outputs": [
    {
     "name": "stdout",
     "output_type": "stream",
     "text": [
      "# 13 neolude data: loading data: chunck CFI          \r"
     ]
    }
   ],
   "source": [
    "#checks = get_checks(user, log_info=False, active=True)\n",
    "#crew_info = get_crew_info(user, log_info=False, date=dt.now())\n",
    "#roster_tag = get_roster_tag(user, log_info=False, period=dt.now(), tag_type='', all_period=False)\n",
    "#rosters = get_rosters(user, log_info=False, period=dt.now(), all_period=False)\n",
    "arp = get_data_neolude(user, log_info=False, training_id=14140)\n",
    "eqp = get_data_neolude(user, log_info=False, training_id=16766)\n",
    "emg = get_data_neolude(user, log_info=False, training_id=18180)\n",
    "emg_presencial = get_data_neolude(user, log_info=False, training_id=25250)\n",
    "sec = get_data_neolude(user, log_info=False, training_id=6173)\n",
    "sgso = get_data_neolude(user, log_info=False, training_id=14241)\n",
    "cfi = get_data_neolude(user, log_info=False, training_id=6167)"
   ]
  },
  {
   "cell_type": "code",
   "execution_count": null,
   "metadata": {},
   "outputs": [],
   "source": [
    "arp = get_data_neolude(user, log_info=False, training_id=14140)"
   ]
  },
  {
   "cell_type": "code",
   "execution_count": null,
   "metadata": {},
   "outputs": [],
   "source": [
    "eqp = get_data_neolude(user, log_info=False, training_id=16766)"
   ]
  },
  {
   "cell_type": "code",
   "execution_count": null,
   "metadata": {},
   "outputs": [],
   "source": [
    "emg = get_data_neolude(user, log_info=False, training_id=18180)"
   ]
  },
  {
   "cell_type": "code",
   "execution_count": null,
   "metadata": {},
   "outputs": [],
   "source": [
    "emg_presencial = get_data_neolude(user, log_info=False, training_id=25250)"
   ]
  },
  {
   "cell_type": "code",
   "execution_count": null,
   "metadata": {},
   "outputs": [],
   "source": [
    "sec = get_data_neolude(user, log_info=False, training_id=6173)"
   ]
  },
  {
   "cell_type": "code",
   "execution_count": null,
   "metadata": {},
   "outputs": [],
   "source": [
    "sgso = get_data_neolude(user, log_info=False, training_id=14241)"
   ]
  },
  {
   "cell_type": "code",
   "execution_count": null,
   "metadata": {},
   "outputs": [],
   "source": [
    "cfi = get_data_neolude(user, log_info=False, training_id=6167)"
   ]
  },
  {
   "cell_type": "code",
   "execution_count": null,
   "metadata": {},
   "outputs": [],
   "source": []
  }
 ],
 "metadata": {
  "kernelspec": {
   "display_name": "Python 3",
   "language": "python",
   "name": "python3"
  },
  "language_info": {
   "codemirror_mode": {
    "name": "ipython",
    "version": 3
   },
   "file_extension": ".py",
   "mimetype": "text/x-python",
   "name": "python",
   "nbconvert_exporter": "python",
   "pygments_lexer": "ipython3",
   "version": "3.9.0"
  }
 },
 "nbformat": 4,
 "nbformat_minor": 4
}
