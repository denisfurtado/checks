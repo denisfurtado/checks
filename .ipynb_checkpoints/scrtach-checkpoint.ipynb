{
 "cells": [
  {
   "cell_type": "code",
   "execution_count": 1,
   "metadata": {},
   "outputs": [],
   "source": [
    "import gol_apis as apis\n",
    "from api_tools import setup as stp\n",
    "\n",
    "from gol_logger import Logger\n",
    "import pandas as pd\n",
    "import multiprocessing as mp\n",
    "import requests, time\n",
    "from datetime import datetime as dt\n",
    "from datetime import timedelta as td\n",
    "from utils import funcs\n",
    "from utils.progress import step\n",
    "from utils.progress import BAR\n",
    "from itertools import chain\n",
    "\n",
    "from modules.generate_data import get_data_neolude\n",
    "from modules.generate_data import get_rosters\n",
    "from modules.generate_data import get_crew_info\n",
    "from modules.generate_data import get_checks\n",
    "\n",
    "from modules.mail import send_checks_mail\n",
    "\n",
    "import sys\n",
    "from config.variables import user"
   ]
  },
  {
   "cell_type": "code",
   "execution_count": 2,
   "metadata": {},
   "outputs": [],
   "source": [
    "training_code = 'CFI'"
   ]
  },
  {
   "cell_type": "code",
   "execution_count": null,
   "metadata": {
    "scrolled": false
   },
   "outputs": [],
   "source": [
    "# Dados Crew Info\n",
    "crew = pd.read_csv('data/crew/crew_info.csv', sep=';', encoding='utf-8-sig')\n",
    "crew.cif = crew.cif.astype(int).astype(str).str.zfill(8)\n",
    "crew = crew[crew['funcao'].isin(['CMT', 'COP'])]\n",
    "crew = crew[['cif', 'guerra', 'funcao', 'cargo', 'base']]\n",
    "crew"
   ]
  },
  {
   "cell_type": "code",
   "execution_count": 3,
   "metadata": {},
   "outputs": [],
   "source": [
    "# Header para filtrar dados do Neolude\n",
    "header_neolude = ['RegistrationNumber',\n",
    "                  'UserName',\n",
    "                  'BusinessUnitName',\n",
    "                  'Post',\n",
    "                  'CPF',\n",
    "                  'Email',\n",
    "                  'CourseName',\n",
    "                  'CourseUserStatus',\n",
    "                  'GradeFormatted',\n",
    "                  'EnrollableBeginningFormatted',              \n",
    "                  'LastAccessDate',\n",
    "                  'CreatedDate',\n",
    "                  'CompletionDate']"
   ]
  },
  {
   "cell_type": "code",
   "execution_count": null,
   "metadata": {},
   "outputs": [],
   "source": [
    "# Dados Neolude\n",
    "training = pd.read_csv(f'data/neolude/{training_code}.csv', sep=';', encoding='utf-8-sig')\n",
    "training = training[header_neolude]\n",
    "training['RegistrationNumber'] = training['RegistrationNumber'].fillna(0)\n",
    "training['RegistrationNumber'] = training['RegistrationNumber'].astype(int).astype(str).str.zfill(8)\n",
    "training['LastAccessDate'] = pd.to_datetime(training['LastAccessDate'])\n",
    "training['CreatedDate'] = pd.to_datetime(training['CreatedDate'])\n",
    "#training['EnrollableBeginningFormatted'] = pd.to_datetime(training['EnrollableBeginningFormatted'], dayfirst=True)\n",
    "training['CompletionDate'] = pd.to_datetime(training['CompletionDate'])\n",
    "#training.columns = ['cif', 'name', 'base', 'funcao', 'cpf', 'email', 'course_name','status', 'nota', 'ultimo_acesso', 'criacao_acesso', 'data_conclusao']\n",
    "#training = training[['cif', 'course_name','status', 'nota', 'data_conclusao']]\n",
    "#training = training.sort_values(by=['cif','data_conclusao'])\n",
    "#training = training.drop_duplicates(subset = ['cif'], keep = 'last')\n",
    "training"
   ]
  },
  {
   "cell_type": "code",
   "execution_count": null,
   "metadata": {},
   "outputs": [],
   "source": [
    "cav = training[training.RegistrationNumber == '00000640']\n",
    "cav"
   ]
  },
  {
   "cell_type": "code",
   "execution_count": null,
   "metadata": {},
   "outputs": [],
   "source": [
    "# Dados de Rosters\n",
    "rosters = funcs.generate_data('data/rosters/')\n",
    "rosters.cif = rosters.cif.astype(str).str.zfill(8)"
   ]
  },
  {
   "cell_type": "code",
   "execution_count": null,
   "metadata": {},
   "outputs": [],
   "source": [
    "inss = rosters.copy()\n",
    "inss['dep'] = pd.to_datetime(inss['dep'], format='%Y-%m-%d')\n",
    "inss['dep'] = inss['dep'].dt.floor('D')\n",
    "inss = inss[(inss['code'] == 'INSS') & (inss['dep'] == pd.to_datetime(dt.date(dt.now())))]\n",
    "inss = inss[['cif', 'code']]\n",
    "inss.columns = ['cif', 'inss']\n",
    "inss"
   ]
  },
  {
   "cell_type": "code",
   "execution_count": null,
   "metadata": {},
   "outputs": [],
   "source": [
    "lnr = rosters.copy()\n",
    "lnr['dep'] = pd.to_datetime(lnr['dep'], format='%Y-%m-%d')\n",
    "lnr['dep'] = lnr['dep'].dt.floor('D')\n",
    "lnr = lnr[(lnr['code'] == 'LIC-SREM') & (lnr['dep'] == pd.to_datetime(dt.date(dt.now())))]\n",
    "lnr = lnr[['cif', 'code']]\n",
    "lnr.columns = ['cif', 'lnr']\n",
    "lnr"
   ]
  },
  {
   "cell_type": "code",
   "execution_count": null,
   "metadata": {},
   "outputs": [],
   "source": [
    "rosters = rosters[rosters['code'].isin(funcs.training_filter(training_code))]\n",
    "rosters = rosters.sort_values(by=['cif','dep'])\n",
    "rosters = rosters[['cif', 'code', 'fr', 'dep']]\n",
    "rosters = rosters.drop_duplicates(subset = ['cif'], keep = 'last')\n",
    "rosters"
   ]
  },
  {
   "cell_type": "code",
   "execution_count": null,
   "metadata": {},
   "outputs": [],
   "source": [
    "# Dados de Checks\n",
    "checks = pd.read_csv('data/checks/check_schedule.csv', sep=';', encoding='utf-8-sig')\n",
    "checks.cif = checks.cif.astype(str).str.zfill(8)\n",
    "checks = checks[checks['checkTypeCode'] == training_code]\n",
    "checks = checks[['cif', 'checkTypeCode', 'expiryDt']]\n",
    "checks"
   ]
  },
  {
   "cell_type": "code",
   "execution_count": null,
   "metadata": {},
   "outputs": [],
   "source": [
    "# Merge dos dados\n",
    "data_all = pd.merge(crew, checks[['cif', 'checkTypeCode', 'expiryDt']], on='cif', how='left')\n",
    "data_all = data_all.merge(training, on='cif', how='left')\n",
    "data_all = data_all.merge(rosters[['cif', 'code', 'dep']], on='cif', how='left')\n",
    "data_all = data_all.merge(inss, on='cif', how='left')\n",
    "data_all = data_all.merge(lnr, on='cif', how='left')\n",
    "data_all"
   ]
  },
  {
   "cell_type": "code",
   "execution_count": null,
   "metadata": {
    "scrolled": false
   },
   "outputs": [],
   "source": [
    "# Formatação do dataFrame de Dados\n",
    "validation = data_all.copy()\n",
    "\n",
    "# Ajuste de data do vencimento\n",
    "validation['expiryDt'] = pd.to_datetime(validation['expiryDt'], format='%Y-%m-%d')\n",
    "validation['expiryDt'] = validation['expiryDt'].dt.floor('D')\n",
    "\n",
    "validation['dep'] = validation['dep'].fillna(pd.to_datetime(dt(2035,12,31)))\n",
    "validation['dep'] = pd.to_datetime(validation['dep'], format='%Y-%m-%d')\n",
    "validation['dep'] = validation['dep'].dt.floor('D')\n",
    "\n",
    "validation['data_conclusao'] = validation['data_conclusao'].fillna(pd.to_datetime(dt(2035,12,31)))\n",
    "validation['data_conclusao'] = pd.to_datetime(validation['data_conclusao'], format='%Y-%m-%d')\n",
    "validation['data_conclusao'] = validation['data_conclusao'].dt.floor('D')\n",
    "\n",
    "#validation = validation[validation['expiryDt'] < (pd.to_datetime(dt.date(dt.now())) + pd.offsets.MonthBegin(0))]\n",
    "validation['tempo_de_conclusao (dias)'] = pd.to_datetime(dt.date(dt.now())) - validation['data_conclusao']\n",
    "\n",
    "validation['tempo_de_conclusao (dias)'] = validation['tempo_de_conclusao (dias)'].dt.days\n",
    "\n",
    "validation = validation[validation['dep'] < (pd.to_datetime(dt.date(dt.now())))]\n",
    "validation['atualizar'] = (validation['status'] == 'Concluído') & (validation['tempo_de_conclusao (dias)'] < 90)\n",
    "validation"
   ]
  },
  {
   "cell_type": "code",
   "execution_count": null,
   "metadata": {},
   "outputs": [],
   "source": [
    "validation.to_csv(f'./data/output/{training_code}.csv', index=False, sep=';', encoding='utf-8-sig')"
   ]
  },
  {
   "cell_type": "code",
   "execution_count": null,
   "metadata": {},
   "outputs": [],
   "source": [
    "# Arquivo de import\n",
    "# fill table\n",
    "df_atualizar = validation[validation['atualizar']]\n",
    "\n",
    "df_atualizar"
   ]
  },
  {
   "cell_type": "code",
   "execution_count": null,
   "metadata": {},
   "outputs": [],
   "source": [
    "df_import = df[['cif', 'checkTypeCode', 'data_conclusao']]\n",
    "\n",
    "# fill table\n",
    "\n",
    "data = df_import.copy()\n",
    "\n",
    "data['update'] = 'U'\n",
    "data['id'] = df_['cif'].astype(str).str.zfill(8)\n",
    "data['type'] = 'ARP'\n",
    "data['issue'] = df_['data_conclusao'].dt.strftime('%Y%m%d') + '0000'\n",
    "data['expiry'] = (df_['data_conclusao'] + td(days=365)).dt.strftime('%Y%m%d') + '0000'\n",
    "data['extended'] = (df_['data_conclusao'] + td(days=365)).dt.strftime('%Y%m%d') + '0000'\n",
    "data['failed'] = 'N'\n",
    "data['do_not_plan_before'] = (df_['data_conclusao'] + td(days=365)).dt.strftime('%Y%m%d') + '0000'\n",
    "data['zero'] = '0'\n",
    "data['remark'] = ''\n",
    "data['check_comment'] = ''\n",
    "data['confirmed'] = 'Y'\n",
    "data['paper_recieved'] = 'Y'\n",
    "\n",
    "# remove fields from original file\n",
    "cols = [\n",
    "    'update',\n",
    "    'cif',\n",
    "    'type',\n",
    "    'issue',\n",
    "    'expiry',\n",
    "    'extended',\n",
    "    'failed',\n",
    "    'do_not_plan_before',\n",
    "    'zero',\n",
    "    'remark',\n",
    "    'check_comment',\n",
    "    'confirmed',\n",
    "    'paper_recieved'  \n",
    "]\n",
    "\n",
    "data = data[cols].copy()\n",
    "\n",
    "data.to_csv('./data/output/crm_import_arp.dat', sep='|', header=None, index=False, line_terminator='\\r\\n')\n",
    "\n",
    "data"
   ]
  },
  {
   "cell_type": "code",
   "execution_count": null,
   "metadata": {},
   "outputs": [],
   "source": [
    "out_email = validation.copy()\n",
    "\n",
    "out_email = out_email[~out_email['inss'].isin(['INSS'])]\n",
    "out_email = out_email[~out_email['lnr'].isin(['LIC-SREM'])]\n",
    "\n",
    "out_email = out_email[['cif',\n",
    "                       'guerra',\n",
    "                       'funcao',\n",
    "                       'base',\n",
    "                       'checkTypeCode',\n",
    "                       'expiryDt', \n",
    "                       'status', \n",
    "                       'nota', \n",
    "                       'data_conclusao',\n",
    "                       'code',\n",
    "                       'dep',\n",
    "                       'tempo_de_conclusao (dias)',\n",
    "                       'atualizar']]\n",
    "\n",
    "out_email['expiryDt'] = out_email['expiryDt'].dt.strftime('%d/%m/%Y')\n",
    "out_email['data_conclusao'] = out_email['data_conclusao'].dt.strftime('%d/%m/%Y')\n",
    "out_email['dep'] = out_email['dep'].dt.strftime('%d/%m/%Y')\n",
    "out_email['status'] = out_email['status'].fillna('')\n",
    "out_email['nota'] = out_email['nota'].fillna('')"
   ]
  },
  {
   "cell_type": "code",
   "execution_count": null,
   "metadata": {},
   "outputs": [],
   "source": [
    "send_checks_mail(out_email, user['mail'], user['password'], user['emails'])"
   ]
  },
  {
   "cell_type": "code",
   "execution_count": null,
   "metadata": {},
   "outputs": [],
   "source": []
  }
 ],
 "metadata": {
  "@webio": {
   "lastCommId": null,
   "lastKernelId": null
  },
  "kernelspec": {
   "display_name": "Python 3",
   "language": "python",
   "name": "python3"
  },
  "language_info": {
   "codemirror_mode": {
    "name": "ipython",
    "version": 3
   },
   "file_extension": ".py",
   "mimetype": "text/x-python",
   "name": "python",
   "nbconvert_exporter": "python",
   "pygments_lexer": "ipython3",
   "version": "3.9.0"
  }
 },
 "nbformat": 4,
 "nbformat_minor": 4
}
